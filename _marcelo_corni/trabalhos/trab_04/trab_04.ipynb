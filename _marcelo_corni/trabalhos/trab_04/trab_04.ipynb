{
 "cells": [
  {
   "cell_type": "markdown",
   "id": "574a624b",
   "metadata": {},
   "source": [
    "# Análise de Amostras com Teste de Normalidade e Teste-T\n",
    "\n",
    "Este notebook utiliza os dados de treinamento e validação do autoencoder, fornecidos em um arquivo CSV, para realizar as seguintes análises:\n",
    "1. Seleção de amostras aleatórias com \\( n < 30 \\).\n",
    "2. Teste de Kolmogorov-Smirnov para verificar se as amostras seguem distribuição Normal.\n",
    "3. Repetição até encontrar duas amostras Normais (p-value ≥ 0.8).\n",
    "4. Teste-T para verificar diferenças significativas entre as médias das amostras.\n",
    "5. Cálculo de intervalos de confiança para as médias.\n",
    "\n",
    "## Importação dos Dados"
   ]
  },
  {
   "cell_type": "code",
   "execution_count": 1,
   "id": "f1de3b51",
   "metadata": {},
   "outputs": [],
   "source": [
    "import pandas as pd\n",
    "import numpy as np\n",
    "from scipy.stats import kstest, ttest_ind, norm\n",
    "import matplotlib.pyplot as plt\n",
    "\n",
    "# Carregar os dados do CSV\n",
    "csv_path = \"01_janeiro_loss_history.csv\"\n",
    "data = pd.read_csv(csv_path)\n",
    "\n",
    "# Selecionar colunas relevantes\n",
    "loss = data['train_loss']\n",
    "val_loss = data['val_loss']"
   ]
  },
  {
   "cell_type": "markdown",
   "id": "6bfd729e",
   "metadata": {},
   "source": [
    "## Etapa 1: Seleção de Amostras Aleatórias\n",
    "\n",
    "Serão selecionadas pequenas amostras com tamanho \\( n < 30 \\) para realizar as análises."
   ]
  },
  {
   "cell_type": "code",
   "execution_count": 2,
   "id": "b96a15e0",
   "metadata": {},
   "outputs": [
    {
     "name": "stdout",
     "output_type": "stream",
     "text": [
      "Amostra aceita (p-value=0.823)\n",
      "Amostra aceita (p-value=0.820)\n",
      "Duas amostras normais encontradas.\n"
     ]
    }
   ],
   "source": [
    "np.random.seed(42)\n",
    "samples = []\n",
    "\n",
    "# Gerar amostras aleatórias até encontrar 2 normais\n",
    "while len(samples) < 2:\n",
    "    # Selecionar uma amostra aleatória\n",
    "    sample = np.random.choice(loss, size=30, replace=False)\n",
    "    # Teste de normalidade (Kolmogorov-Smirnov)\n",
    "    stat, p_value = kstest(sample, 'norm', args=(np.mean(sample), np.std(sample)))\n",
    "    if p_value >= 0.8:\n",
    "        samples.append(sample)\n",
    "        print(f\"Amostra aceita (p-value={p_value:.3f})\")\n",
    "\n",
    "# Garantir que temos duas amostras\n",
    "if len(samples) < 2:\n",
    "    print(\"Não foi possível encontrar duas amostras normais.\")\n",
    "else:\n",
    "    print(\"Duas amostras normais encontradas.\")"
   ]
  },
  {
   "cell_type": "markdown",
   "id": "a34e6d51",
   "metadata": {},
   "source": [
    "## Etapa 2: Teste de Normalidade\n",
    "\n",
    "A amostra é considerada normal se o p-value do teste for maior ou igual a 0.8."
   ]
  },
  {
   "cell_type": "code",
   "execution_count": 3,
   "id": "8f2ea724",
   "metadata": {},
   "outputs": [
    {
     "name": "stdout",
     "output_type": "stream",
     "text": [
      "Amostra 1: p-value = 0.823\n",
      "Amostra 2: p-value = 0.820\n"
     ]
    }
   ],
   "source": [
    "# Exibir os p-values das amostras selecionadas\n",
    "for i, sample in enumerate(samples, start=1):\n",
    "    stat, p_value = kstest(sample, 'norm', args=(np.mean(sample), np.std(sample)))\n",
    "    print(f\"Amostra {i}: p-value = {p_value:.3f}\")"
   ]
  },
  {
   "cell_type": "markdown",
   "id": "a7710747",
   "metadata": {},
   "source": [
    "## Etapa 3: Teste-T para Diferença de Médias\n",
    "\n",
    "Verificar se as médias das amostras possuem diferença significativa."
   ]
  },
  {
   "cell_type": "code",
   "execution_count": 4,
   "id": "1b8410b4",
   "metadata": {},
   "outputs": [
    {
     "name": "stdout",
     "output_type": "stream",
     "text": [
      "Teste T: Estatística=-0.423, p-value=0.674\n"
     ]
    }
   ],
   "source": [
    "# Teste T\n",
    "sample1, sample2 = samples\n",
    "t_stat, t_p_value = ttest_ind(sample1, sample2)\n",
    "print(f\"Teste T: Estatística={t_stat:.3f}, p-value={t_p_value:.3f}\")"
   ]
  },
  {
   "cell_type": "markdown",
   "id": "738a9553",
   "metadata": {},
   "source": [
    "## Etapa 4: Intervalos de Confiança\n",
    "\n",
    "Calcular os intervalos de confiança para os níveis de 90%, 95% e 99%."
   ]
  },
  {
   "cell_type": "code",
   "execution_count": 5,
   "id": "451f9e33",
   "metadata": {},
   "outputs": [
    {
     "name": "stdout",
     "output_type": "stream",
     "text": [
      "Intervalo de Confiança (90%): Amostra 1=(0.2857870900585206, 0.28723428210080154), Amostra 2=(0.2860119448963701, 0.28755295407137277)\n",
      "Intervalo de Confiança (95%): Amostra 1=(0.2856484682399981, 0.287372903919324), Amostra 2=(0.28586433663985844, 0.28770056232788443)\n",
      "Intervalo de Confiança (99%): Amostra 1=(0.2853775397591344, 0.28764383240018776), Amostra 2=(0.28557584467570796, 0.2879890542920349)\n"
     ]
    }
   ],
   "source": [
    "confidence_levels = [0.90, 0.95, 0.99]\n",
    "intervals = []\n",
    "\n",
    "for level in confidence_levels:\n",
    "    z = norm.ppf(1 - (1 - level) / 2)\n",
    "    ci1 = (np.mean(sample1) - z * np.std(sample1, ddof=1) / np.sqrt(len(sample1)),\n",
    "           np.mean(sample1) + z * np.std(sample1, ddof=1) / np.sqrt(len(sample1)))\n",
    "    ci2 = (np.mean(sample2) - z * np.std(sample2, ddof=1) / np.sqrt(len(sample2)),\n",
    "           np.mean(sample2) + z * np.std(sample2, ddof=1) / np.sqrt(len(sample2)))\n",
    "    intervals.append((level, ci1, ci2))\n",
    "    print(f\"Intervalo de Confiança ({int(level * 100)}%): Amostra 1={ci1}, Amostra 2={ci2}\")"
   ]
  },
  {
   "cell_type": "markdown",
   "id": "63b25737",
   "metadata": {},
   "source": [
    "## Etapa 5: Visualização das Distribuições\n",
    "\n",
    "Será gerado um gráfico para visualizar as distribuições das amostras selecionadas."
   ]
  },
  {
   "cell_type": "code",
   "execution_count": null,
   "id": "1c38ed23",
   "metadata": {},
   "outputs": [
    {
     "data": {
      "image/png": "[encoded data removed]",
      "text/plain": [
       "<Figure size 1000x600 with 1 Axes>"
      ]
     },
     "metadata": {},
     "output_type": "display_data"
    }
   ],
   "source": [
    "plt.figure(figsize=(10, 6))\n",
    "plt.hist(sample1, bins=10, alpha=0.7, label='Amostra 1')\n",
    "plt.hist(sample2, bins=10, alpha=0.7, label='Amostra 2')\n",
    "plt.title('Distribuição das Amostras Selecionadas')\n",
    "plt.xlabel('Valor')\n",
    "plt.ylabel('Frequência')\n",
    "plt.legend()\n",
    "plt.show()"
   ]
  },
  {
   "cell_type": "markdown",
   "id": "efe192da",
   "metadata": {},
   "source": [
    "## Conclusões\n",
    "\n",
    "1. As amostras selecionadas são normais, conforme os resultados do teste de Kolmogorov-Smirnov.\n",
    "2. O Teste-T indica se há ou não diferença significativa entre as médias das amostras.\n",
    "3. Os intervalos de confiança fornecem uma medida de incerteza para as médias das amostras em diferentes níveis de confiança."
   ]
  }
 ],
 "metadata": {
  "kernelspec": {
   "display_name": "Python 3",
   "language": "python",
   "name": "python3"
  },
  "language_info": {
   "codemirror_mode": {
    "name": "ipython",
    "version": 3
   },
   "file_extension": ".py",
   "mimetype": "text/x-python",
   "name": "python",
   "nbconvert_exporter": "python",
   "pygments_lexer": "ipython3",
   "version": "3.10.7"
  }
 },
 "nbformat": 4,
 "nbformat_minor": 5
}
